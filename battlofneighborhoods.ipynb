{
    "cells": [
        {
            "cell_type": "markdown",
            "metadata": {},
            "source": "# Capstone Project - Battle of the Neighborhoods\n## Optimizing the location of a take-out kitchen in Kings Cty, NY"
        },
        {
            "cell_type": "markdown",
            "metadata": {},
            "source": "## Table of Contents\n* [Introduction: Business Problem](#introduction)\n* [Data](#data)\n\n\n"
        },
        {
            "cell_type": "code",
            "execution_count": null,
            "metadata": {},
            "outputs": [],
            "source": ""
        },
        {
            "cell_type": "markdown",
            "metadata": {},
            "source": "## Introduction: Business Problem <a name=\"introduction\"></a>\nIn this project, optimal locations for a **take-out restaurant** in **Brooklyn, NY** will be located.\n\nSince there are already many restaurants in Brooklyn, we will locate neighborhoods where there **aren't many restaurants**. Particular interest will be taken in neighborhoods where there are **no take-out restaurants nearby**. We would also prefer to be **within a neighborhood of high density** with respect to others in Kings Cty.\n\nData science skills will be used to produce a list of a few locations that meet these critera. Each proposed location will be clearly described in terms of the findings of this exploration to assist stakeholders in making the best possible decision in final location.\n\n\n#### Target Audience ####\n* Restauranteurs\n* Investors\n* Real Estate Developers\n"
        },
        {
            "cell_type": "markdown",
            "metadata": {},
            "source": "## Data <a name=\"data\"></a>\n\nBased on the description of the problem, factors that will influence a decision are:\n* Number of existing restaurants within a neighborhood\n* Number of and distance to take-out restaurants within a neighborhood\n* Population of a neighborhood in relation to other neighborhoods\n\nA regularly spaced grid of locations is used to define the neighborhoods.\n\nThe following data-sources will be used to generate the required information:\n* Centers of candidate neighborhoods will be generated algorithmically. The address of each will be determined with **OpenStreetMap's Reverse geocoding API**\n* The number of, and distance to, restaurants in a neighborhood will be found with **Foursquare's API**\n* The population of each neighborhood will be estimated with data from the **US Dept.of Commerce's Census API**.\n"
        },
        {
            "cell_type": "code",
            "execution_count": null,
            "metadata": {},
            "outputs": [],
            "source": ""
        }
    ],
    "metadata": {
        "kernelspec": {
            "display_name": "Python 3.7",
            "language": "python",
            "name": "python3"
        },
        "language_info": {
            "codemirror_mode": {
                "name": "ipython",
                "version": 3
            },
            "file_extension": ".py",
            "mimetype": "text/x-python",
            "name": "python",
            "nbconvert_exporter": "python",
            "pygments_lexer": "ipython3",
            "version": "3.7.9"
        }
    },
    "nbformat": 4,
    "nbformat_minor": 1
}